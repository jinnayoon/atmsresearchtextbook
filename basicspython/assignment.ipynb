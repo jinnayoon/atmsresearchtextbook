{
 "cells": [
  {
   "cell_type": "markdown",
   "metadata": {},
   "source": [
    "<h1>Python Basics<h1>"
   ]
  },
  {
   "cell_type": "markdown",
   "metadata": {},
   "source": [
    "<h4>Part 1: Lists and Loops <h4>"
   ]
  },
  {
   "cell_type": "markdown",
   "metadata": {},
   "source": [
    "1) Create a list with the names of every planet in the solar system (in order)"
   ]
  },
  {
   "cell_type": "code",
   "execution_count": 1,
   "metadata": {},
   "outputs": [],
   "source": [
    "planets = [\"Mercury\", \"Venus\", \"Earth\", \"Mars\", \"Jupiter\", \"Saturn\", \"Uranus\", \"Neptune\"]"
   ]
  },
  {
   "cell_type": "markdown",
   "metadata": {},
   "source": [
    "2) Have Python tell you how many planets there are by examining your list"
   ]
  },
  {
   "cell_type": "code",
   "execution_count": 2,
   "metadata": {},
   "outputs": [
    {
     "data": {
      "text/plain": [
       "8"
      ]
     },
     "execution_count": 2,
     "metadata": {},
     "output_type": "execute_result"
    }
   ],
   "source": [
    "num_of_plan = len(planets)\n",
    "num_of_plan"
   ]
  },
  {
   "cell_type": "markdown",
   "metadata": {},
   "source": [
    "3. Use slicing to display the first four planets (the rocky planets)"
   ]
  },
  {
   "cell_type": "code",
   "execution_count": 4,
   "metadata": {},
   "outputs": [
    {
     "data": {
      "text/plain": [
       "['Mercury', 'Venus', 'Earth', 'Mars']"
      ]
     },
     "execution_count": 4,
     "metadata": {},
     "output_type": "execute_result"
    }
   ],
   "source": [
    "rocky_planets = planets[:4]\n",
    "rocky_planets"
   ]
  },
  {
   "cell_type": "markdown",
   "metadata": {},
   "source": [
    "4) Iterate through your planets and print the planet name only if it has an s at the end"
   ]
  },
  {
   "cell_type": "code",
   "execution_count": 12,
   "metadata": {},
   "outputs": [
    {
     "name": "stdout",
     "output_type": "stream",
     "text": [
      "Venus\n",
      "Mars\n",
      "Uranus\n"
     ]
    }
   ],
   "source": [
    "for i in range(len(planets)):\n",
    "    planet = planets[i]\n",
    "    planet_last_char = planet[-1]\n",
    "    if planet_last_char == \"s\": #indexing the last character of the string\n",
    "        print(planets[i])"
   ]
  },
  {
   "cell_type": "markdown",
   "metadata": {},
   "source": [
    "<h4>Part 2: Dictionaries <h4>"
   ]
  },
  {
   "cell_type": "markdown",
   "metadata": {},
   "source": [
    "1) Now create a dictionary that maps each planet name to its mass"
   ]
  },
  {
   "cell_type": "code",
   "execution_count": 2,
   "metadata": {},
   "outputs": [
    {
     "data": {
      "text/plain": [
       "{'Mercury Mass': 0.33,\n",
       " 'Venus Mass': 4.87,\n",
       " 'Earth Mass': 5.97,\n",
       " 'Mars Mass': 0.642,\n",
       " 'Jupiter Mass': 1898,\n",
       " 'Saturn Mass': 568,\n",
       " 'Uranus Mass': 86.8,\n",
       " 'Neptune Mass': 102}"
      ]
     },
     "execution_count": 2,
     "metadata": {},
     "output_type": "execute_result"
    }
   ],
   "source": [
    "mass_planet = {\"Mercury Mass\":0.330, \"Venus Mass\":4.87, \"Earth Mass\":5.97, \"Mars Mass\":0.642, \"Jupiter Mass\":1898, \"Saturn Mass\":568, \"Uranus Mass\":86.8, \"Neptune Mass\":102}\n",
    "mass_planet"
   ]
  },
  {
   "cell_type": "markdown",
   "metadata": {},
   "source": [
    "2) Use your dictionary to look up Earth’s mass"
   ]
  },
  {
   "cell_type": "code",
   "execution_count": 3,
   "metadata": {},
   "outputs": [
    {
     "data": {
      "text/plain": [
       "5.97"
      ]
     },
     "execution_count": 3,
     "metadata": {},
     "output_type": "execute_result"
    }
   ],
   "source": [
    "mass_planet[\"Earth Mass\"]"
   ]
  },
  {
   "cell_type": "markdown",
   "metadata": {},
   "source": [
    "3) Loop through the data and create a list of planets whose mass is greater than 100 x 10^24 kg"
   ]
  },
  {
   "cell_type": "code",
   "execution_count": 11,
   "metadata": {},
   "outputs": [
    {
     "name": "stdout",
     "output_type": "stream",
     "text": [
      "['Jupiter Mass', 'Saturn Mass', 'Neptune Mass']\n"
     ]
    }
   ],
   "source": [
    "list = []\n",
    "for key in mass_planet:\n",
    "    if mass_planet[key] > 100:\n",
    "        list.append(key) #to access value instead, do mass_planet[key]\n",
    "print(list)"
   ]
  },
  {
   "cell_type": "markdown",
   "metadata": {},
   "source": [
    "4) Now add pluto to your dictionary"
   ]
  },
  {
   "cell_type": "code",
   "execution_count": 12,
   "metadata": {},
   "outputs": [
    {
     "data": {
      "text/plain": [
       "{'Mercury Mass': 0.33,\n",
       " 'Venus Mass': 4.87,\n",
       " 'Earth Mass': 5.97,\n",
       " 'Mars Mass': 0.642,\n",
       " 'Jupiter Mass': 1898,\n",
       " 'Saturn Mass': 568,\n",
       " 'Uranus Mass': 86.8,\n",
       " 'Neptune Mass': 102,\n",
       " 'Pluto Mass': 0.013}"
      ]
     },
     "execution_count": 12,
     "metadata": {},
     "output_type": "execute_result"
    }
   ],
   "source": [
    "mass_planet[\"Pluto Mass\"] = 0.0130\n",
    "mass_planet"
   ]
  },
  {
   "cell_type": "markdown",
   "metadata": {},
   "source": [
    "<h4>Part 3: Dictionaries<h4>"
   ]
  },
  {
   "cell_type": "markdown",
   "metadata": {},
   "source": [
    "1. Write a function to convert temperature from kelvin to celsius and celsius to kelvin"
   ]
  },
  {
   "cell_type": "code",
   "execution_count": 13,
   "metadata": {},
   "outputs": [],
   "source": [
    "def kelvinToCelsius(value):\n",
    "    new_value = value - 273.15\n",
    "    return new_value"
   ]
  },
  {
   "cell_type": "code",
   "execution_count": 14,
   "metadata": {},
   "outputs": [],
   "source": [
    "def celsiusToKelvin(value):\n",
    "    new_value = value + 273.15\n",
    "    return new_value"
   ]
  },
  {
   "cell_type": "markdown",
   "metadata": {},
   "source": [
    "2. Write a function to convert temperature to fahrenheit.\n",
    "Include an optional keyword argument to specify whether the input is in celcius or kelvin. Call your previously defined functions if necessary."
   ]
  },
  {
   "cell_type": "code",
   "execution_count": 18,
   "metadata": {},
   "outputs": [],
   "source": [
    "def convertFahrenheit(value, scale = \"Celsius\"):\n",
    "    if scale == \"Celsius\":\n",
    "        return value * 9/5 + 32\n",
    "    elif scale == \"Kelvin\":\n",
    "        new_val = (value - 273.15) * 9/5 + 32\n",
    "        return new_val\n",
    "    else:\n",
    "        print(\"Not valid temperature scale. Enter Celsius or Kelvin.\")"
   ]
  },
  {
   "cell_type": "markdown",
   "metadata": {},
   "source": [
    "3) Check that the outputs are sensible"
   ]
  },
  {
   "cell_type": "code",
   "execution_count": 20,
   "metadata": {},
   "outputs": [
    {
     "data": {
      "text/plain": [
       "32.0"
      ]
     },
     "execution_count": 20,
     "metadata": {},
     "output_type": "execute_result"
    }
   ],
   "source": [
    "convertFahrenheit(32, \"Celsius\")\n",
    "convertFahrenheit(5, \"Kelvin\")\n",
    "convertFahrenheit(0, \"Celsius\")"
   ]
  },
  {
   "cell_type": "markdown",
   "metadata": {},
   "source": [
    "4) Now write a function that converts from fahrenheit and uses a keyword argument to specify whether you want the output in celcius or kelvin"
   ]
  },
  {
   "cell_type": "code",
   "execution_count": 21,
   "metadata": {},
   "outputs": [],
   "source": [
    "def fromFahrenheit(value, wanted_scale = \"Celsius\"):\n",
    "    if wanted_scale == \"Celsius\":\n",
    "        new_val = (value - 32) * 5/9\n",
    "        return new_val\n",
    "    elif wanted_scale == \"Kelvin\":\n",
    "        new_val = (value - 32) * 5/9 + 273.15\n",
    "        return new_val\n",
    "    else:\n",
    "        print(\"Not valid temperature scale. Enter Celsius or Kelvin.\")"
   ]
  },
  {
   "cell_type": "markdown",
   "metadata": {},
   "source": [
    "5) Write a function that takes two arguments (feet and inches) and returns height in meters"
   ]
  },
  {
   "cell_type": "code",
   "execution_count": 26,
   "metadata": {},
   "outputs": [],
   "source": [
    "def feetToMeters(feet, inches):\n",
    "    meters = (feet * 0.3048) + (inches * 0.0254)\n",
    "    return meters"
   ]
  },
  {
   "cell_type": "markdown",
   "metadata": {},
   "source": [
    "5.2 Verify it gives sensible answers"
   ]
  },
  {
   "cell_type": "code",
   "execution_count": 45,
   "metadata": {},
   "outputs": [
    {
     "data": {
      "text/plain": [
       "1.8542000000000003"
      ]
     },
     "execution_count": 45,
     "metadata": {},
     "output_type": "execute_result"
    }
   ],
   "source": [
    "feetToMeters(5, 3)\n",
    "feetToMeters(5, 7)\n",
    "feetToMeters(6,1)"
   ]
  },
  {
   "cell_type": "markdown",
   "metadata": {},
   "source": [
    "6. Write a function takes one argument (height in meters) and returns two arguments (feet and inches)"
   ]
  },
  {
   "cell_type": "code",
   "execution_count": 50,
   "metadata": {},
   "outputs": [],
   "source": [
    "def metersToFeet(height):\n",
    "    total_inches = height*39.37\n",
    "    feet = total_inches // 12 #discards the fraction part (only whole number)\n",
    "    inches = total_inches - (feet*12) #module returns the remainder of division, convert from feet to inches\n",
    "    return feet, inches\n"
   ]
  },
  {
   "cell_type": "markdown",
   "metadata": {},
   "source": [
    "7) Verify that the “round trip” conversion from and back to meters is consistent"
   ]
  },
  {
   "cell_type": "code",
   "execution_count": 54,
   "metadata": {},
   "outputs": [
    {
     "data": {
      "text/plain": [
       "(5.0, 2.9919999999999973)"
      ]
     },
     "execution_count": 54,
     "metadata": {},
     "output_type": "execute_result"
    }
   ],
   "source": [
    "metersToFeet(1.8542)\n",
    "metersToFeet(1.65)\n",
    "metersToFeet(1.6)"
   ]
  }
 ],
 "metadata": {
  "kernelspec": {
   "display_name": "Python 3",
   "language": "python",
   "name": "python3"
  },
  "language_info": {
   "codemirror_mode": {
    "name": "ipython",
    "version": 3
   },
   "file_extension": ".py",
   "mimetype": "text/x-python",
   "name": "python",
   "nbconvert_exporter": "python",
   "pygments_lexer": "ipython3",
   "version": "3.11.6"
  }
 },
 "nbformat": 4,
 "nbformat_minor": 2
}
